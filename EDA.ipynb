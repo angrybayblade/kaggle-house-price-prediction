{
 "cells": [
  {
   "cell_type": "markdown",
   "metadata": {},
   "source": [
    "### Overview Of Data\n",
    "\n",
    "+ SalePrice - the property's sale price in dollars. This is the target variable that you're trying to predict.\n",
    "\n",
    "\n",
    "+ MSSubClass: The building class\n",
    "+ MSZoning: The general zoning classification\n",
    "\n",
    "\n",
    "+ LotFrontage: Linear feet of street connected to property\n",
    "+ LotArea: Lot size in square feet\n",
    "+ LotShape: General shape of property\n",
    "+ LotConfig: Lot configuration\n",
    "\n",
    "\n",
    "+ Street: Type of road access\n",
    "+ Alley: Type of alley access\n",
    "+ Utilities: Type of utilities available\n",
    "+ BldgType: Type of dwelling\n",
    "+ RoofStyle: Type of roof\n",
    "+ Foundation: Type of foundation\n",
    "\n",
    "+ LandContour: Flatness of the property\n",
    "+ LandSlope: Slope of property\n",
    "+ Neighborhood: Physical locations within Ames city limits\n",
    "+ Condition1: Proximity to main road or railroad\n",
    "+ Condition2: Proximity to main road or railroad (if a second is present)\n",
    "\n",
    "+ HouseStyle: Style of dwelling\n",
    "+ OverallQual: Overall material and finish quality\n",
    "+ OverallCond: Overall condition rating\n",
    "+ YearBuilt: Original construction date\n",
    "+ YearRemodAdd: Remodel date\n",
    "\n",
    "\n",
    "+ RoofMatl: Roof material\n",
    "+ Exterior1st: Exterior covering on house\n",
    "+ Exterior2nd: Exterior covering on house (if more than one material)\n",
    "\n",
    "+ MasVnrType: Masonry veneer type\n",
    "+ MasVnrArea: Masonry veneer area in square feet\n",
    "\n",
    "+ ExterQual: Exterior material quality\n",
    "+ ExterCond: Present condition of the material on the exterior\n",
    "\n",
    "\n",
    "\n",
    "+ BsmtQual: Height of the basement\n",
    "+ BsmtCond: General condition of the basement\n",
    "+ BsmtExposure: Walkout or garden level basement walls\n",
    "+ BsmtFinType1: Quality of basement finished area\n",
    "+ BsmtFinSF1: Type 1 finished square feet\n",
    "+ BsmtFinType2: Quality of second finished area (if present)\n",
    "+ BsmtFinSF2: Type 2 finished square feet\n",
    "+ BsmtUnfSF: Unfinished square feet of basement area\n",
    "+ TotalBsmtSF: Total square feet of basement area\n",
    "\n",
    "\n",
    "+ Heating: Type of heating\n",
    "+ HeatingQC: Heating quality and condition\n",
    "\n",
    "+ CentralAir: Central air conditioning\n",
    "+ Electrical: Electrical system\n",
    "+ 1stFlrSF: First Floor square feet\n",
    "+ 2ndFlrSF: Second floor square feet\n",
    "+ LowQualFinSF: Low quality finished square feet (all floors)\n",
    "+ GrLivArea: Above grade (ground) living area square feet\n",
    "+ BsmtFullBath: Basement full bathrooms\n",
    "+ BsmtHalfBath: Basement half bathrooms\n",
    "+ FullBath: Full bathrooms above grade\n",
    "+ HalfBath: Half baths above grade\n",
    "+ Bedroom: Number of bedrooms above basement level\n",
    "+ Kitchen: Number of kitchens\n",
    "+ KitchenQual: Kitchen quality\n",
    "+ TotRmsAbvGrd: Total rooms above grade (does not include bathrooms)\n",
    "+ Functional: Home functionality rating\n",
    "+ Fireplaces: Number of fireplaces\n",
    "+ FireplaceQu: Fireplace quality\n",
    "\n",
    "+ GarageType: Garage location\n",
    "+ GarageYrBlt: Year garage was built\n",
    "+ GarageFinish: Interior finish of the garage\n",
    "+ GarageCars: Size of garage in car capacity\n",
    "+ GarageArea: Size of garage in square feet\n",
    "+ GarageQual: Garage quality\n",
    "+ GarageCond: Garage condition\n",
    "\n",
    "+ PavedDrive: Paved driveway\n",
    "\n",
    "+ WoodDeckSF: Wood deck area in square feet\n",
    "+ OpenPorchSF: Open porch area in square feet\n",
    "+ EnclosedPorch: Enclosed porch area in square feet\n",
    "+ 3SsnPorch: Three season porch area in square feet\n",
    "+ ScreenPorch: Screen porch area in square feet\n",
    "+ PoolArea: Pool area in square feet\n",
    "\n",
    "+ PoolQC: Pool quality\n",
    "+ Fence: Fence quality\n",
    "+ MiscFeature: Miscellaneous feature not covered in other categories\n",
    "+ MiscVal: Value of miscellaneous feature\n",
    "+ MoSold: Month Sold\n",
    "+ YrSold: Year Sold\n",
    "+ SaleType: Type of sale\n",
    "+ SaleCondition: Condition of sale"
   ]
  },
  {
   "cell_type": "code",
   "execution_count": 51,
   "metadata": {},
   "outputs": [],
   "source": [
    "from warnings import filterwarnings\n",
    "filterwarnings(\"ignore\")\n",
    "\n",
    "import pandas as pd \n",
    "import numpy as np\n",
    "import seaborn as sns\n",
    "import matplotlib.pyplot as plt \n",
    "\n",
    "%matplotlib inline"
   ]
  },
  {
   "cell_type": "code",
   "execution_count": 52,
   "metadata": {},
   "outputs": [],
   "source": [
    "df = pd.read_csv(\"./train.csv\")"
   ]
  },
  {
   "cell_type": "code",
   "execution_count": 53,
   "metadata": {},
   "outputs": [
    {
     "name": "stdout",
     "output_type": "stream",
     "text": [
      "Number of Ropws and Columns :(1460, 81)\n",
      "Number Of Null Values : 6965\n"
     ]
    },
    {
     "data": {
      "text/html": [
       "<div>\n",
       "<style scoped>\n",
       "    .dataframe tbody tr th:only-of-type {\n",
       "        vertical-align: middle;\n",
       "    }\n",
       "\n",
       "    .dataframe tbody tr th {\n",
       "        vertical-align: top;\n",
       "    }\n",
       "\n",
       "    .dataframe thead th {\n",
       "        text-align: right;\n",
       "    }\n",
       "</style>\n",
       "<table border=\"1\" class=\"dataframe\">\n",
       "  <thead>\n",
       "    <tr style=\"text-align: right;\">\n",
       "      <th></th>\n",
       "      <th>Id</th>\n",
       "      <th>MSSubClass</th>\n",
       "      <th>MSZoning</th>\n",
       "      <th>LotFrontage</th>\n",
       "      <th>LotArea</th>\n",
       "      <th>Street</th>\n",
       "      <th>Alley</th>\n",
       "      <th>LotShape</th>\n",
       "      <th>LandContour</th>\n",
       "      <th>Utilities</th>\n",
       "      <th>...</th>\n",
       "      <th>PoolArea</th>\n",
       "      <th>PoolQC</th>\n",
       "      <th>Fence</th>\n",
       "      <th>MiscFeature</th>\n",
       "      <th>MiscVal</th>\n",
       "      <th>MoSold</th>\n",
       "      <th>YrSold</th>\n",
       "      <th>SaleType</th>\n",
       "      <th>SaleCondition</th>\n",
       "      <th>SalePrice</th>\n",
       "    </tr>\n",
       "  </thead>\n",
       "  <tbody>\n",
       "    <tr>\n",
       "      <th>0</th>\n",
       "      <td>1</td>\n",
       "      <td>60</td>\n",
       "      <td>RL</td>\n",
       "      <td>65.0</td>\n",
       "      <td>8450</td>\n",
       "      <td>Pave</td>\n",
       "      <td>NaN</td>\n",
       "      <td>Reg</td>\n",
       "      <td>Lvl</td>\n",
       "      <td>AllPub</td>\n",
       "      <td>...</td>\n",
       "      <td>0</td>\n",
       "      <td>NaN</td>\n",
       "      <td>NaN</td>\n",
       "      <td>NaN</td>\n",
       "      <td>0</td>\n",
       "      <td>2</td>\n",
       "      <td>2008</td>\n",
       "      <td>WD</td>\n",
       "      <td>Normal</td>\n",
       "      <td>208500</td>\n",
       "    </tr>\n",
       "    <tr>\n",
       "      <th>1</th>\n",
       "      <td>2</td>\n",
       "      <td>20</td>\n",
       "      <td>RL</td>\n",
       "      <td>80.0</td>\n",
       "      <td>9600</td>\n",
       "      <td>Pave</td>\n",
       "      <td>NaN</td>\n",
       "      <td>Reg</td>\n",
       "      <td>Lvl</td>\n",
       "      <td>AllPub</td>\n",
       "      <td>...</td>\n",
       "      <td>0</td>\n",
       "      <td>NaN</td>\n",
       "      <td>NaN</td>\n",
       "      <td>NaN</td>\n",
       "      <td>0</td>\n",
       "      <td>5</td>\n",
       "      <td>2007</td>\n",
       "      <td>WD</td>\n",
       "      <td>Normal</td>\n",
       "      <td>181500</td>\n",
       "    </tr>\n",
       "    <tr>\n",
       "      <th>2</th>\n",
       "      <td>3</td>\n",
       "      <td>60</td>\n",
       "      <td>RL</td>\n",
       "      <td>68.0</td>\n",
       "      <td>11250</td>\n",
       "      <td>Pave</td>\n",
       "      <td>NaN</td>\n",
       "      <td>IR1</td>\n",
       "      <td>Lvl</td>\n",
       "      <td>AllPub</td>\n",
       "      <td>...</td>\n",
       "      <td>0</td>\n",
       "      <td>NaN</td>\n",
       "      <td>NaN</td>\n",
       "      <td>NaN</td>\n",
       "      <td>0</td>\n",
       "      <td>9</td>\n",
       "      <td>2008</td>\n",
       "      <td>WD</td>\n",
       "      <td>Normal</td>\n",
       "      <td>223500</td>\n",
       "    </tr>\n",
       "    <tr>\n",
       "      <th>3</th>\n",
       "      <td>4</td>\n",
       "      <td>70</td>\n",
       "      <td>RL</td>\n",
       "      <td>60.0</td>\n",
       "      <td>9550</td>\n",
       "      <td>Pave</td>\n",
       "      <td>NaN</td>\n",
       "      <td>IR1</td>\n",
       "      <td>Lvl</td>\n",
       "      <td>AllPub</td>\n",
       "      <td>...</td>\n",
       "      <td>0</td>\n",
       "      <td>NaN</td>\n",
       "      <td>NaN</td>\n",
       "      <td>NaN</td>\n",
       "      <td>0</td>\n",
       "      <td>2</td>\n",
       "      <td>2006</td>\n",
       "      <td>WD</td>\n",
       "      <td>Abnorml</td>\n",
       "      <td>140000</td>\n",
       "    </tr>\n",
       "    <tr>\n",
       "      <th>4</th>\n",
       "      <td>5</td>\n",
       "      <td>60</td>\n",
       "      <td>RL</td>\n",
       "      <td>84.0</td>\n",
       "      <td>14260</td>\n",
       "      <td>Pave</td>\n",
       "      <td>NaN</td>\n",
       "      <td>IR1</td>\n",
       "      <td>Lvl</td>\n",
       "      <td>AllPub</td>\n",
       "      <td>...</td>\n",
       "      <td>0</td>\n",
       "      <td>NaN</td>\n",
       "      <td>NaN</td>\n",
       "      <td>NaN</td>\n",
       "      <td>0</td>\n",
       "      <td>12</td>\n",
       "      <td>2008</td>\n",
       "      <td>WD</td>\n",
       "      <td>Normal</td>\n",
       "      <td>250000</td>\n",
       "    </tr>\n",
       "  </tbody>\n",
       "</table>\n",
       "<p>5 rows × 81 columns</p>\n",
       "</div>"
      ],
      "text/plain": [
       "   Id  MSSubClass MSZoning  LotFrontage  LotArea Street Alley LotShape  \\\n",
       "0   1          60       RL         65.0     8450   Pave   NaN      Reg   \n",
       "1   2          20       RL         80.0     9600   Pave   NaN      Reg   \n",
       "2   3          60       RL         68.0    11250   Pave   NaN      IR1   \n",
       "3   4          70       RL         60.0     9550   Pave   NaN      IR1   \n",
       "4   5          60       RL         84.0    14260   Pave   NaN      IR1   \n",
       "\n",
       "  LandContour Utilities    ...     PoolArea PoolQC Fence MiscFeature MiscVal  \\\n",
       "0         Lvl    AllPub    ...            0    NaN   NaN         NaN       0   \n",
       "1         Lvl    AllPub    ...            0    NaN   NaN         NaN       0   \n",
       "2         Lvl    AllPub    ...            0    NaN   NaN         NaN       0   \n",
       "3         Lvl    AllPub    ...            0    NaN   NaN         NaN       0   \n",
       "4         Lvl    AllPub    ...            0    NaN   NaN         NaN       0   \n",
       "\n",
       "  MoSold YrSold  SaleType  SaleCondition  SalePrice  \n",
       "0      2   2008        WD         Normal     208500  \n",
       "1      5   2007        WD         Normal     181500  \n",
       "2      9   2008        WD         Normal     223500  \n",
       "3      2   2006        WD        Abnorml     140000  \n",
       "4     12   2008        WD         Normal     250000  \n",
       "\n",
       "[5 rows x 81 columns]"
      ]
     },
     "execution_count": 53,
     "metadata": {},
     "output_type": "execute_result"
    }
   ],
   "source": [
    "print (f\"Number of Ropws and Columns :{df.shape}\")\n",
    "print (f\"Number Of Null Values : {df.isna().sum().values.sum()}\")\n",
    "df.head()"
   ]
  },
  {
   "cell_type": "code",
   "execution_count": 54,
   "metadata": {},
   "outputs": [],
   "source": [
    "na = df.isna().sum()"
   ]
  },
  {
   "cell_type": "code",
   "execution_count": 55,
   "metadata": {},
   "outputs": [
    {
     "name": "stdout",
     "output_type": "stream",
     "text": [
      "Id : 0\n",
      "MSSubClass : 0\n",
      "MSZoning : 0\n",
      "LotFrontage : 259\n",
      "LotArea : 0\n",
      "Street : 0\n",
      "Alley : 1369\n",
      "LotShape : 0\n",
      "LandContour : 0\n",
      "Utilities : 0\n",
      "LotConfig : 0\n",
      "LandSlope : 0\n",
      "Neighborhood : 0\n",
      "Condition1 : 0\n",
      "Condition2 : 0\n",
      "BldgType : 0\n",
      "HouseStyle : 0\n",
      "OverallQual : 0\n",
      "OverallCond : 0\n",
      "YearBuilt : 0\n",
      "YearRemodAdd : 0\n",
      "RoofStyle : 0\n",
      "RoofMatl : 0\n",
      "Exterior1st : 0\n",
      "Exterior2nd : 0\n",
      "MasVnrType : 8\n",
      "MasVnrArea : 8\n",
      "ExterQual : 0\n",
      "ExterCond : 0\n",
      "Foundation : 0\n",
      "BsmtQual : 37\n",
      "BsmtCond : 37\n",
      "BsmtExposure : 38\n",
      "BsmtFinType1 : 37\n",
      "BsmtFinSF1 : 0\n",
      "BsmtFinType2 : 38\n",
      "BsmtFinSF2 : 0\n",
      "BsmtUnfSF : 0\n",
      "TotalBsmtSF : 0\n",
      "Heating : 0\n",
      "HeatingQC : 0\n",
      "CentralAir : 0\n",
      "Electrical : 1\n",
      "1stFlrSF : 0\n",
      "2ndFlrSF : 0\n",
      "LowQualFinSF : 0\n",
      "GrLivArea : 0\n",
      "BsmtFullBath : 0\n",
      "BsmtHalfBath : 0\n",
      "FullBath : 0\n",
      "HalfBath : 0\n",
      "BedroomAbvGr : 0\n",
      "KitchenAbvGr : 0\n",
      "KitchenQual : 0\n",
      "TotRmsAbvGrd : 0\n",
      "Functional : 0\n",
      "Fireplaces : 0\n",
      "FireplaceQu : 690\n",
      "GarageType : 81\n",
      "GarageYrBlt : 81\n",
      "GarageFinish : 81\n",
      "GarageCars : 0\n",
      "GarageArea : 0\n",
      "GarageQual : 81\n",
      "GarageCond : 81\n",
      "PavedDrive : 0\n",
      "WoodDeckSF : 0\n",
      "OpenPorchSF : 0\n",
      "EnclosedPorch : 0\n",
      "3SsnPorch : 0\n",
      "ScreenPorch : 0\n",
      "PoolArea : 0\n",
      "PoolQC : 1453\n",
      "Fence : 1179\n",
      "MiscFeature : 1406\n",
      "MiscVal : 0\n",
      "MoSold : 0\n",
      "YrSold : 0\n",
      "SaleType : 0\n",
      "SaleCondition : 0\n",
      "SalePrice : 0\n"
     ]
    }
   ],
   "source": [
    "for i in na.index:\n",
    "    print (f\"{i} : {na.loc[i]}\")"
   ]
  },
  {
   "cell_type": "markdown",
   "metadata": {},
   "source": [
    "### Exploring The Variables"
   ]
  },
  {
   "cell_type": "code",
   "execution_count": 56,
   "metadata": {},
   "outputs": [
    {
     "data": {
      "text/plain": [
       "15"
      ]
     },
     "execution_count": 56,
     "metadata": {},
     "output_type": "execute_result"
    }
   ],
   "source": [
    "df.MSSubClass.nunique()"
   ]
  },
  {
   "cell_type": "code",
   "execution_count": 57,
   "metadata": {},
   "outputs": [
    {
     "data": {
      "text/plain": [
       "<matplotlib.axes._subplots.AxesSubplot at 0x7fb7d9d1fa20>"
      ]
     },
     "execution_count": 57,
     "metadata": {},
     "output_type": "execute_result"
    },
    {
     "data": {
      "image/png": "[encoded data removed]",
      "text/plain": [
       "<matplotlib.figure.Figure at 0x7fb7da015cc0>"
      ]
     },
     "metadata": {
      "needs_background": "light"
     },
     "output_type": "display_data"
    }
   ],
   "source": [
    "sns.countplot(df.MSSubClass,)"
   ]
  },
  {
   "cell_type": "code",
   "execution_count": 58,
   "metadata": {},
   "outputs": [
    {
     "data": {
      "text/plain": [
       "dtype('int64')"
      ]
     },
     "execution_count": 58,
     "metadata": {},
     "output_type": "execute_result"
    }
   ],
   "source": [
    "df.MSSubClass.dtype"
   ]
  },
  {
   "cell_type": "code",
   "execution_count": 59,
   "metadata": {},
   "outputs": [],
   "source": [
    "df['MSSubClass'] = df.MSSubClass.apply(lambda x:f\"SUBCLASS_{x}\")"
   ]
  },
  {
   "cell_type": "code",
   "execution_count": 60,
   "metadata": {},
   "outputs": [
    {
     "data": {
      "text/plain": [
       "Text(0.5,1,'Sub Class Count')"
      ]
     },
     "execution_count": 60,
     "metadata": {},
     "output_type": "execute_result"
    },
    {
     "data": {
      "image/png": "[encoded data removed]",
      "text/plain": [
       "<matplotlib.figure.Figure at 0x7fb7d9ca9eb8>"
      ]
     },
     "metadata": {
      "needs_background": "light"
     },
     "output_type": "display_data"
    }
   ],
   "source": [
    "temp = df.MSSubClass.value_counts()\n",
    "plt.barh(temp.index,temp.values)\n",
    "plt.title(\"Sub Class Count\")"
   ]
  },
  {
   "cell_type": "code",
   "execution_count": null,
   "metadata": {},
   "outputs": [],
   "source": []
  },
  {
   "cell_type": "code",
   "execution_count": null,
   "metadata": {},
   "outputs": [],
   "source": []
  }
 ],
 "metadata": {
  "kernelspec": {
   "display_name": "Python 3",
   "language": "python",
   "name": "python3"
  },
  "language_info": {
   "codemirror_mode": {
    "name": "ipython",
    "version": 3
   },
   "file_extension": ".py",
   "mimetype": "text/x-python",
   "name": "python",
   "nbconvert_exporter": "python",
   "pygments_lexer": "ipython3",
   "version": "3.6.9"
  }
 },
 "nbformat": 4,
 "nbformat_minor": 4
}
